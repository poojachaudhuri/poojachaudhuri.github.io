{
 "cells": [
  {
   "cell_type": "markdown",
   "metadata": {},
   "source": [
    "# Homework: Notebooks to Illustrator\n",
    "\n",
    "In this notebook you'll be building basic graphics which you'll then export to Illustrator and clean up.\n",
    "\n",
    "# Homework tips\n",
    "\n",
    "## How to do this homework\n",
    "\n",
    "**Start in pandas, Altair or ggplot,** expor to PDF or SVG, then move on over to Illustrator. If you're using Python I *strongly* recommend Altair instead of pandas `.plot`. If you're using ggplot I recommend saving to PDF instead of SVG when using `ggsave`.\n",
    "\n",
    "**Do these in whatever order you'd like.** Feel free to do a bar graph, then skip ahead to some Buzzfeed line graphs, etc.\n",
    "\n",
    "**You choose when to leave the notebook.** I personally do the majority of my work in Illustrator, so as soon as I have all the bars and text I need I'm using `ggsave` and am on my way. Other folks who are more interested in ggplot, though, might go deeper before exporting.\n",
    "\n",
    "If the coding is too tough, don't worry! Just use DataWrapper and on the **Publish & Embed** step choose to export as PDF under **Export or duplicate visualization**.\n",
    "\n",
    "**I've found [ChatGPT](https://chat.openai.com/chat) to be a lifesaver for chart tweaks before you head out to Illustrator.** If it gives you an oddly complicated answer for how to do something, you might want to ask \"is there an easier way to do that?\"\n",
    "\n",
    "## Illustrator tips\n",
    "\n",
    "### Opening things in Illustrator\n",
    "\n",
    "Select everything (Command+A) then `Object > Clipping Mask > Release` (Command + Option + 7) again and again and again until it doesn't work any more. Also do the same thing with `Object > Ungroup` (Command + Option + G).\n",
    "\n",
    "### Fill vs. stroke colors\n",
    "\n",
    "Fill is the inside, stroke is the outline.\n",
    "\n",
    "![](images/fill-stroke.png)\n",
    "\n",
    "You select them separately. The white-with-a-red-line color means no color.\n",
    "\n",
    "### Background colors\n",
    "\n",
    "In Illustrator, draw a square as big as your entire artboard, then do `Select > Arrange > Send to Back` to make it go behind everything else.\n",
    "\n",
    "### Editing lines\n",
    "\n",
    "`Window > Stroke` to open up the stroke menu, then you can change the size with \"Weight\" or make it dashed with \"Dashed line\" (you might need to click the little... thing in the upper right-hand corner of the Stroke window and pick 'Show options' to be able to see that)\n",
    "\n",
    "![](images/stroke-stuff.png)\n",
    "\n",
    "### Selecting multiple things in Illustrator\n",
    "\n",
    "Hold shift, click multiple things. Or click and drag a box around them.\n",
    "\n",
    "### Selecting all of the _____\n",
    "\n",
    "Things that look like what you have selected: `Select > Same > Appearance` or `Fill Color` or `Stroke Color` or whatever\n",
    "\n",
    "Text: `Select > Object > All Text Objects`\n",
    "\n",
    "### My grid/axis lines are on top of my chart!\n",
    "\n",
    "Select the line, then `Object > Arrange > Send to Back`\n",
    "\n",
    "### I sent something to the back and it disappeared!!!\n",
    "\n",
    "Maybe you have a white rectangle as a background? Try clicking the background and hitting delete.\n",
    "\n",
    "### Rotating text or other things\n",
    "\n",
    "Click it (black arrow), then move your mouse around its edge until you see a thing that kind of implies you can rotate it. Click and drag.\n",
    "\n",
    "### Drawing straight lines or rotating nicely\n",
    "\n",
    "Hold shift while you draw the line or rotate or move a thing and it will go straight.\n",
    "\n",
    "### Lining up things\n",
    "\n",
    "When you have multiple things selected, the `Align` bar becomes active at the top. You can... align things with other things using it instead of manually pushing things around. You might want to play around with the different \"Align to...\" options.\n",
    "\n",
    "![](images/align.png)\n",
    "\n",
    "The \"key object\" one can be pretty good, as it uses the \"key object\" as an anchor and moves everything around it. You select the key object by clicking (without holding shift) after you've made your selection. Key object = blue box."
   ]
  },
  {
   "cell_type": "markdown",
   "metadata": {},
   "source": [
    "----\n",
    "\n",
    "# NYT: Bar graphs\n",
    "\n",
    "Recreate the \"bar charts from [this piece](https://www.nytimes.com/2017/12/20/upshot/democrats-2018-congressional-elections-polling.html) and [this piece](https://www.nytimes.com/2017/12/27/business/the-robots-are-coming-and-sweden-is-fine.html) and [this piece](https://www.nytimes.com/2017/09/29/upshot/dont-forget-the-republicans-incumbency-advantage-in-2018.html). **Only the bar charts!**\n",
    "\n",
    "![](images/sample-nyt.png)\n",
    "\n",
    "**Data:** \n",
    "   \n",
    "* `data/generic_poll_lead.csv`\n",
    "* `data/social-spending.csv`\n",
    "* `data/cook_pvi.csv`"
   ]
  },
  {
   "cell_type": "code",
   "execution_count": null,
   "metadata": {},
   "outputs": [],
   "source": [
    "%load_ext rpy2.ipython"
   ]
  },
  {
   "cell_type": "code",
   "execution_count": null,
   "metadata": {},
   "outputs": [],
   "source": []
  },
  {
   "cell_type": "code",
   "execution_count": null,
   "metadata": {},
   "outputs": [],
   "source": []
  },
  {
   "cell_type": "markdown",
   "metadata": {},
   "source": [
    "---\n",
    "\n",
    "# WaPo: Comparing waves\n",
    "\n",
    "You are going to recreate the simple-yet-effective \"Reported cases per day are more than double that of Jan. 2021 peak\" visualization from [this piece](https://www.washingtonpost.com/health/interactive/2022/omicron-comparison-cases-deaths-hospitalizations/).\n",
    "\n",
    "![](images/sample-wapo.png)\n",
    "\n",
    "**I've included the unfiltered (and updated) data:** `data/owid-covid-data.csv`.\n",
    "\n",
    "You're only interested in the USA."
   ]
  },
  {
   "cell_type": "code",
   "execution_count": null,
   "metadata": {},
   "outputs": [],
   "source": []
  },
  {
   "cell_type": "code",
   "execution_count": null,
   "metadata": {},
   "outputs": [],
   "source": []
  },
  {
   "cell_type": "code",
   "execution_count": null,
   "metadata": {},
   "outputs": [],
   "source": []
  },
  {
   "cell_type": "markdown",
   "metadata": {},
   "source": [
    "---\n",
    "\n",
    "# FiveThirtyEight: What makes Nigel Richards the best at Scrabble?\n",
    "\n",
    "You are going to recreate the \"Nigel Richard's Performance at Nationals\" visualization from [this piece](https://fivethirtyeight.com/features/what-makes-nigel-richards-the-best-scrabble-player-on-earth/) by [Oliver Roeder](https://twitter.com/ollie). This is one of my favorite series of charts in all of history! \n",
    "\n",
    "*When you break them down by divisions, you **do not** need to draw the circles.*\n",
    "\n",
    "![](images/sample-scrabble.png)\n",
    "\n",
    "**I've included the data, but there's a little joining work to be done:** \n",
    "\n",
    "* `scrabble-point-spread.csv` - the points for and against each player at Nationals from one year (2013)\n",
    "* `scrabble-tournament.csv` - rating and division data for each player at Nationals from one year (2013)"
   ]
  },
  {
   "cell_type": "code",
   "execution_count": null,
   "metadata": {},
   "outputs": [],
   "source": []
  }
 ],
 "metadata": {
  "kernelspec": {
   "display_name": "Python 3 (ipykernel)",
   "language": "python",
   "name": "python3"
  },
  "language_info": {
   "codemirror_mode": {
    "name": "ipython",
    "version": 3
   },
   "file_extension": ".py",
   "mimetype": "text/x-python",
   "name": "python",
   "nbconvert_exporter": "python",
   "pygments_lexer": "ipython3",
   "version": "3.10.3"
  }
 },
 "nbformat": 4,
 "nbformat_minor": 2
}
